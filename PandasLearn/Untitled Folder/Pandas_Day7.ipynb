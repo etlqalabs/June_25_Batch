{
 "cells": [
  {
   "cell_type": "code",
   "execution_count": 15,
   "id": "bed0a472",
   "metadata": {},
   "outputs": [],
   "source": [
    "import pandas as pd"
   ]
  },
  {
   "cell_type": "code",
   "execution_count": 16,
   "id": "5231811a",
   "metadata": {},
   "outputs": [],
   "source": [
    "df = pd.read_csv(\"emp.csv\")"
   ]
  },
  {
   "cell_type": "code",
   "execution_count": null,
   "id": "060a69bf",
   "metadata": {},
   "outputs": [],
   "source": []
  },
  {
   "cell_type": "code",
   "execution_count": 22,
   "id": "6d29dac0",
   "metadata": {},
   "outputs": [
    {
     "data": {
      "text/plain": [
       "eno                     102\n",
       "ename            Jane Smith\n",
       "dateofjoining    2019-08-25\n",
       "Name: 1, dtype: object"
      ]
     },
     "execution_count": 22,
     "metadata": {},
     "output_type": "execute_result"
    }
   ],
   "source": [
    "#Fetch the data from row number 2 or index = 1\n",
    "df.iloc[1]"
   ]
  },
  {
   "cell_type": "code",
   "execution_count": 24,
   "id": "c691bd7b",
   "metadata": {},
   "outputs": [
    {
     "data": {
      "text/plain": [
       "'Jane Smith'"
      ]
     },
     "execution_count": 24,
     "metadata": {},
     "output_type": "execute_result"
    }
   ],
   "source": [
    "#Fetch a specific ename\n",
    "df['ename'].iloc[1]"
   ]
  },
  {
   "cell_type": "code",
   "execution_count": 25,
   "id": "aa663728",
   "metadata": {},
   "outputs": [
    {
     "data": {
      "text/html": [
       "<div>\n",
       "<style scoped>\n",
       "    .dataframe tbody tr th:only-of-type {\n",
       "        vertical-align: middle;\n",
       "    }\n",
       "\n",
       "    .dataframe tbody tr th {\n",
       "        vertical-align: top;\n",
       "    }\n",
       "\n",
       "    .dataframe thead th {\n",
       "        text-align: right;\n",
       "    }\n",
       "</style>\n",
       "<table border=\"1\" class=\"dataframe\">\n",
       "  <thead>\n",
       "    <tr style=\"text-align: right;\">\n",
       "      <th></th>\n",
       "      <th>eno</th>\n",
       "      <th>ename</th>\n",
       "      <th>dateofjoining</th>\n",
       "    </tr>\n",
       "  </thead>\n",
       "  <tbody>\n",
       "    <tr>\n",
       "      <th>0</th>\n",
       "      <td>101</td>\n",
       "      <td>John Doe</td>\n",
       "      <td>2020-03-12</td>\n",
       "    </tr>\n",
       "    <tr>\n",
       "      <th>1</th>\n",
       "      <td>102</td>\n",
       "      <td>Jane Smith</td>\n",
       "      <td>2019-08-25</td>\n",
       "    </tr>\n",
       "    <tr>\n",
       "      <th>2</th>\n",
       "      <td>103</td>\n",
       "      <td>Mark Brown</td>\n",
       "      <td>2021-01-15</td>\n",
       "    </tr>\n",
       "    <tr>\n",
       "      <th>3</th>\n",
       "      <td>104</td>\n",
       "      <td>Emily Davis</td>\n",
       "      <td>2018-11-20</td>\n",
       "    </tr>\n",
       "    <tr>\n",
       "      <th>4</th>\n",
       "      <td>105</td>\n",
       "      <td>Chris Johnson</td>\n",
       "      <td>2022-06-18</td>\n",
       "    </tr>\n",
       "    <tr>\n",
       "      <th>5</th>\n",
       "      <td>106</td>\n",
       "      <td>Lily White</td>\n",
       "      <td>2020-09-10</td>\n",
       "    </tr>\n",
       "    <tr>\n",
       "      <th>6</th>\n",
       "      <td>107</td>\n",
       "      <td>James Lee</td>\n",
       "      <td>2021-02-22</td>\n",
       "    </tr>\n",
       "    <tr>\n",
       "      <th>7</th>\n",
       "      <td>108</td>\n",
       "      <td>Anna Wilson</td>\n",
       "      <td>2017-04-05</td>\n",
       "    </tr>\n",
       "    <tr>\n",
       "      <th>8</th>\n",
       "      <td>109</td>\n",
       "      <td>Michael Clark</td>\n",
       "      <td>2023-05-30</td>\n",
       "    </tr>\n",
       "    <tr>\n",
       "      <th>9</th>\n",
       "      <td>110</td>\n",
       "      <td>Susan Taylor</td>\n",
       "      <td>2019-12-09</td>\n",
       "    </tr>\n",
       "  </tbody>\n",
       "</table>\n",
       "</div>"
      ],
      "text/plain": [
       "   eno          ename dateofjoining\n",
       "0  101       John Doe    2020-03-12\n",
       "1  102     Jane Smith    2019-08-25\n",
       "2  103     Mark Brown    2021-01-15\n",
       "3  104    Emily Davis    2018-11-20\n",
       "4  105  Chris Johnson    2022-06-18\n",
       "5  106     Lily White    2020-09-10\n",
       "6  107      James Lee    2021-02-22\n",
       "7  108    Anna Wilson    2017-04-05\n",
       "8  109  Michael Clark    2023-05-30\n",
       "9  110   Susan Taylor    2019-12-09"
      ]
     },
     "execution_count": 25,
     "metadata": {},
     "output_type": "execute_result"
    }
   ],
   "source": []
  },
  {
   "cell_type": "code",
   "execution_count": 26,
   "id": "4a9b86e3",
   "metadata": {},
   "outputs": [],
   "source": [
    "# Fetch only required columns from the file and store in dataframe\n",
    "df = pd.read_csv(\"emp.csv\",usecols=['eno','dateofjoining'])"
   ]
  },
  {
   "cell_type": "code",
   "execution_count": 28,
   "id": "74c2d1bf",
   "metadata": {},
   "outputs": [],
   "source": [
    "# to mark eno as a index column\n",
    "df = pd.read_csv(\"emp.csv\",index_col='eno')"
   ]
  },
  {
   "cell_type": "code",
   "execution_count": 46,
   "id": "70089c4b",
   "metadata": {},
   "outputs": [],
   "source": [
    "df = pd.read_csv(\"emp.csv\")"
   ]
  },
  {
   "cell_type": "code",
   "execution_count": 47,
   "id": "f051b260",
   "metadata": {},
   "outputs": [
    {
     "data": {
      "text/plain": [
       "eno               int64\n",
       "ename            object\n",
       "dateofjoining    object\n",
       "dtype: object"
      ]
     },
     "execution_count": 47,
     "metadata": {},
     "output_type": "execute_result"
    }
   ],
   "source": [
    "df.dtypes"
   ]
  },
  {
   "cell_type": "code",
   "execution_count": 48,
   "id": "f68823e9",
   "metadata": {},
   "outputs": [],
   "source": [
    "# convert the eno datatype from int to float\n",
    "df = pd.read_csv(\"emp.csv\",dtype={'eno':float})"
   ]
  },
  {
   "cell_type": "code",
   "execution_count": 49,
   "id": "1240d328",
   "metadata": {},
   "outputs": [
    {
     "data": {
      "text/plain": [
       "eno              float64\n",
       "ename             object\n",
       "dateofjoining     object\n",
       "dtype: object"
      ]
     },
     "execution_count": 49,
     "metadata": {},
     "output_type": "execute_result"
    }
   ],
   "source": [
    "df.dtypes"
   ]
  },
  {
   "cell_type": "code",
   "execution_count": 51,
   "id": "8e5b0016",
   "metadata": {},
   "outputs": [
    {
     "data": {
      "text/html": [
       "<div>\n",
       "<style scoped>\n",
       "    .dataframe tbody tr th:only-of-type {\n",
       "        vertical-align: middle;\n",
       "    }\n",
       "\n",
       "    .dataframe tbody tr th {\n",
       "        vertical-align: top;\n",
       "    }\n",
       "\n",
       "    .dataframe thead th {\n",
       "        text-align: right;\n",
       "    }\n",
       "</style>\n",
       "<table border=\"1\" class=\"dataframe\">\n",
       "  <thead>\n",
       "    <tr style=\"text-align: right;\">\n",
       "      <th></th>\n",
       "      <th>eno</th>\n",
       "      <th>ename</th>\n",
       "      <th>dateofjoining</th>\n",
       "    </tr>\n",
       "  </thead>\n",
       "  <tbody>\n",
       "    <tr>\n",
       "      <th>0</th>\n",
       "      <td>101.0</td>\n",
       "      <td>John Doe</td>\n",
       "      <td>2020-03-12</td>\n",
       "    </tr>\n",
       "    <tr>\n",
       "      <th>1</th>\n",
       "      <td>102.0</td>\n",
       "      <td>Jane Smith</td>\n",
       "      <td>2019-08-25</td>\n",
       "    </tr>\n",
       "    <tr>\n",
       "      <th>2</th>\n",
       "      <td>103.0</td>\n",
       "      <td>Mark Brown</td>\n",
       "      <td>2021-01-15</td>\n",
       "    </tr>\n",
       "    <tr>\n",
       "      <th>3</th>\n",
       "      <td>104.0</td>\n",
       "      <td>Emily Davis</td>\n",
       "      <td>2018-11-20</td>\n",
       "    </tr>\n",
       "    <tr>\n",
       "      <th>4</th>\n",
       "      <td>105.0</td>\n",
       "      <td>Chris Johnson</td>\n",
       "      <td>2022-06-18</td>\n",
       "    </tr>\n",
       "    <tr>\n",
       "      <th>5</th>\n",
       "      <td>106.0</td>\n",
       "      <td>Lily White</td>\n",
       "      <td>2020-09-10</td>\n",
       "    </tr>\n",
       "    <tr>\n",
       "      <th>6</th>\n",
       "      <td>107.0</td>\n",
       "      <td>James Lee</td>\n",
       "      <td>2021-02-22</td>\n",
       "    </tr>\n",
       "    <tr>\n",
       "      <th>7</th>\n",
       "      <td>108.0</td>\n",
       "      <td>Anna Wilson</td>\n",
       "      <td>2017-04-05</td>\n",
       "    </tr>\n",
       "    <tr>\n",
       "      <th>8</th>\n",
       "      <td>109.0</td>\n",
       "      <td>Michael Clark</td>\n",
       "      <td>2023-05-30</td>\n",
       "    </tr>\n",
       "    <tr>\n",
       "      <th>9</th>\n",
       "      <td>110.0</td>\n",
       "      <td>Susan Taylor</td>\n",
       "      <td>2019-12-09</td>\n",
       "    </tr>\n",
       "  </tbody>\n",
       "</table>\n",
       "</div>"
      ],
      "text/plain": [
       "     eno          ename dateofjoining\n",
       "0  101.0       John Doe    2020-03-12\n",
       "1  102.0     Jane Smith    2019-08-25\n",
       "2  103.0     Mark Brown    2021-01-15\n",
       "3  104.0    Emily Davis    2018-11-20\n",
       "4  105.0  Chris Johnson    2022-06-18\n",
       "5  106.0     Lily White    2020-09-10\n",
       "6  107.0      James Lee    2021-02-22\n",
       "7  108.0    Anna Wilson    2017-04-05\n",
       "8  109.0  Michael Clark    2023-05-30\n",
       "9  110.0   Susan Taylor    2019-12-09"
      ]
     },
     "execution_count": 51,
     "metadata": {},
     "output_type": "execute_result"
    }
   ],
   "source": [
    "df"
   ]
  },
  {
   "cell_type": "code",
   "execution_count": 52,
   "id": "c5697842",
   "metadata": {},
   "outputs": [],
   "source": [
    "df = pd.read_csv(\"emp.csv\")"
   ]
  },
  {
   "cell_type": "code",
   "execution_count": 53,
   "id": "861e9d01",
   "metadata": {},
   "outputs": [
    {
     "data": {
      "text/html": [
       "<div>\n",
       "<style scoped>\n",
       "    .dataframe tbody tr th:only-of-type {\n",
       "        vertical-align: middle;\n",
       "    }\n",
       "\n",
       "    .dataframe tbody tr th {\n",
       "        vertical-align: top;\n",
       "    }\n",
       "\n",
       "    .dataframe thead th {\n",
       "        text-align: right;\n",
       "    }\n",
       "</style>\n",
       "<table border=\"1\" class=\"dataframe\">\n",
       "  <thead>\n",
       "    <tr style=\"text-align: right;\">\n",
       "      <th></th>\n",
       "      <th>eno</th>\n",
       "      <th>ename</th>\n",
       "      <th>dateofjoining</th>\n",
       "    </tr>\n",
       "  </thead>\n",
       "  <tbody>\n",
       "    <tr>\n",
       "      <th>0</th>\n",
       "      <td>101</td>\n",
       "      <td>John Doe</td>\n",
       "      <td>2020-03-12</td>\n",
       "    </tr>\n",
       "    <tr>\n",
       "      <th>1</th>\n",
       "      <td>102</td>\n",
       "      <td>Jane Smith</td>\n",
       "      <td>2019-08-25</td>\n",
       "    </tr>\n",
       "    <tr>\n",
       "      <th>2</th>\n",
       "      <td>103</td>\n",
       "      <td>Mark Brown</td>\n",
       "      <td>2021-01-15</td>\n",
       "    </tr>\n",
       "    <tr>\n",
       "      <th>3</th>\n",
       "      <td>104</td>\n",
       "      <td>Emily Davis</td>\n",
       "      <td>2018-11-20</td>\n",
       "    </tr>\n",
       "    <tr>\n",
       "      <th>4</th>\n",
       "      <td>105</td>\n",
       "      <td>Chris Johnson</td>\n",
       "      <td>2022-06-18</td>\n",
       "    </tr>\n",
       "    <tr>\n",
       "      <th>...</th>\n",
       "      <td>...</td>\n",
       "      <td>...</td>\n",
       "      <td>...</td>\n",
       "    </tr>\n",
       "    <tr>\n",
       "      <th>60</th>\n",
       "      <td>106</td>\n",
       "      <td>Lily White</td>\n",
       "      <td>2020-09-10</td>\n",
       "    </tr>\n",
       "    <tr>\n",
       "      <th>61</th>\n",
       "      <td>107</td>\n",
       "      <td>James Lee</td>\n",
       "      <td>2021-02-22</td>\n",
       "    </tr>\n",
       "    <tr>\n",
       "      <th>62</th>\n",
       "      <td>108</td>\n",
       "      <td>Anna Wilson</td>\n",
       "      <td>2017-04-05</td>\n",
       "    </tr>\n",
       "    <tr>\n",
       "      <th>63</th>\n",
       "      <td>109</td>\n",
       "      <td>Michael Clark</td>\n",
       "      <td>2023-05-30</td>\n",
       "    </tr>\n",
       "    <tr>\n",
       "      <th>64</th>\n",
       "      <td>110</td>\n",
       "      <td>Susan Taylor</td>\n",
       "      <td>2019-12-09</td>\n",
       "    </tr>\n",
       "  </tbody>\n",
       "</table>\n",
       "<p>65 rows × 3 columns</p>\n",
       "</div>"
      ],
      "text/plain": [
       "    eno          ename dateofjoining\n",
       "0   101       John Doe    2020-03-12\n",
       "1   102     Jane Smith    2019-08-25\n",
       "2   103     Mark Brown    2021-01-15\n",
       "3   104    Emily Davis    2018-11-20\n",
       "4   105  Chris Johnson    2022-06-18\n",
       "..  ...            ...           ...\n",
       "60  106     Lily White    2020-09-10\n",
       "61  107      James Lee    2021-02-22\n",
       "62  108    Anna Wilson    2017-04-05\n",
       "63  109  Michael Clark    2023-05-30\n",
       "64  110   Susan Taylor    2019-12-09\n",
       "\n",
       "[65 rows x 3 columns]"
      ]
     },
     "execution_count": 53,
     "metadata": {},
     "output_type": "execute_result"
    }
   ],
   "source": [
    "df"
   ]
  },
  {
   "cell_type": "code",
   "execution_count": 57,
   "id": "af3a8b59",
   "metadata": {},
   "outputs": [
    {
     "name": "stdout",
     "output_type": "stream",
     "text": [
      "1 :      eno          ename dateofjoining\n",
      "0  101       John Doe    2020-03-12\n",
      "1  102     Jane Smith    2019-08-25\n",
      "2  103     Mark Brown    2021-01-15\n",
      "3  104    Emily Davis    2018-11-20\n",
      "4  105  Chris Johnson    2022-06-18\n",
      "2 :      eno          ename dateofjoining\n",
      "5  106     Lily White    2020-09-10\n",
      "6  107      James Lee    2021-02-22\n",
      "7  108    Anna Wilson    2017-04-05\n",
      "8  109  Michael Clark    2023-05-30\n",
      "9  110   Susan Taylor    2019-12-09\n",
      "3 :       eno        ename  dateofjoining\n",
      "10  eno        ename  dateofjoining\n",
      "11  101     John Doe     2020-03-12\n",
      "12  102   Jane Smith     2019-08-25\n",
      "13  103   Mark Brown     2021-01-15\n",
      "14  104  Emily Davis     2018-11-20\n",
      "4 :       eno          ename dateofjoining\n",
      "15  105  Chris Johnson    2022-06-18\n",
      "16  106     Lily White    2020-09-10\n",
      "17  107      James Lee    2021-02-22\n",
      "18  108    Anna Wilson    2017-04-05\n",
      "19  109  Michael Clark    2023-05-30\n",
      "5 :       eno         ename  dateofjoining\n",
      "20  110  Susan Taylor     2019-12-09\n",
      "21  eno         ename  dateofjoining\n",
      "22  101      John Doe     2020-03-12\n",
      "23  102    Jane Smith     2019-08-25\n",
      "24  103    Mark Brown     2021-01-15\n",
      "6 :       eno          ename dateofjoining\n",
      "25  104    Emily Davis    2018-11-20\n",
      "26  105  Chris Johnson    2022-06-18\n",
      "27  106     Lily White    2020-09-10\n",
      "28  107      James Lee    2021-02-22\n",
      "29  108    Anna Wilson    2017-04-05\n",
      "7 :       eno          ename  dateofjoining\n",
      "30  109  Michael Clark     2023-05-30\n",
      "31  110   Susan Taylor     2019-12-09\n",
      "32  eno          ename  dateofjoining\n",
      "33  101       John Doe     2020-03-12\n",
      "34  102     Jane Smith     2019-08-25\n",
      "8 :       eno          ename dateofjoining\n",
      "35  103     Mark Brown    2021-01-15\n",
      "36  104    Emily Davis    2018-11-20\n",
      "37  105  Chris Johnson    2022-06-18\n",
      "38  106     Lily White    2020-09-10\n",
      "39  107      James Lee    2021-02-22\n",
      "9 :       eno          ename  dateofjoining\n",
      "40  108    Anna Wilson     2017-04-05\n",
      "41  109  Michael Clark     2023-05-30\n",
      "42  110   Susan Taylor     2019-12-09\n",
      "43  eno          ename  dateofjoining\n",
      "44  101       John Doe     2020-03-12\n",
      "10 :       eno          ename dateofjoining\n",
      "45  102     Jane Smith    2019-08-25\n",
      "46  103     Mark Brown    2021-01-15\n",
      "47  104    Emily Davis    2018-11-20\n",
      "48  105  Chris Johnson    2022-06-18\n",
      "49  106     Lily White    2020-09-10\n",
      "11 :       eno          ename  dateofjoining\n",
      "50  107      James Lee     2021-02-22\n",
      "51  108    Anna Wilson     2017-04-05\n",
      "52  109  Michael Clark     2023-05-30\n",
      "53  110   Susan Taylor     2019-12-09\n",
      "54  eno          ename  dateofjoining\n",
      "12 :       eno          ename dateofjoining\n",
      "55  101       John Doe    2020-03-12\n",
      "56  102     Jane Smith    2019-08-25\n",
      "57  103     Mark Brown    2021-01-15\n",
      "58  104    Emily Davis    2018-11-20\n",
      "59  105  Chris Johnson    2022-06-18\n",
      "13 :       eno          ename dateofjoining\n",
      "60  106     Lily White    2020-09-10\n",
      "61  107      James Lee    2021-02-22\n",
      "62  108    Anna Wilson    2017-04-05\n",
      "63  109  Michael Clark    2023-05-30\n",
      "64  110   Susan Taylor    2019-12-09\n"
     ]
    }
   ],
   "source": [
    "# read the file in chunk ( smaller set of data)\n",
    "chunkno= 1\n",
    "for chunk in pd.read_csv('emp.csv',chunksize=5):\n",
    "    print(chunkno,\":  \",chunk)\n",
    "    chunkno = chunkno+1"
   ]
  },
  {
   "cell_type": "code",
   "execution_count": 70,
   "id": "34dfe124",
   "metadata": {},
   "outputs": [],
   "source": [
    "# read rows from 6 to 8 and store in to dataframe\n",
    "df = pd.read_csv('emp.csv',skiprows=5,nrows=3)"
   ]
  },
  {
   "cell_type": "code",
   "execution_count": 73,
   "id": "3d29e9fe",
   "metadata": {},
   "outputs": [
    {
     "data": {
      "text/plain": [
       "eno               int64\n",
       "ename            object\n",
       "dateofjoining    object\n",
       "dtype: object"
      ]
     },
     "execution_count": 73,
     "metadata": {},
     "output_type": "execute_result"
    }
   ],
   "source": [
    "df.dtypes"
   ]
  },
  {
   "cell_type": "code",
   "execution_count": 75,
   "id": "98bd510b",
   "metadata": {},
   "outputs": [],
   "source": [
    "df = pd.read_csv('emp.csv',parse_dates=['dateofjoining'])"
   ]
  },
  {
   "cell_type": "code",
   "execution_count": 76,
   "id": "4b8c64e2",
   "metadata": {},
   "outputs": [
    {
     "data": {
      "text/plain": [
       "eno                       int64\n",
       "ename                    object\n",
       "dateofjoining    datetime64[ns]\n",
       "dtype: object"
      ]
     },
     "execution_count": 76,
     "metadata": {},
     "output_type": "execute_result"
    }
   ],
   "source": [
    "df.dtypes"
   ]
  },
  {
   "cell_type": "code",
   "execution_count": 79,
   "id": "58b49c38",
   "metadata": {},
   "outputs": [
    {
     "data": {
      "text/plain": [
       "0     3\n",
       "1     8\n",
       "2     1\n",
       "3    11\n",
       "4     6\n",
       "5     9\n",
       "6     2\n",
       "7     4\n",
       "8     5\n",
       "9    12\n",
       "Name: dateofjoining, dtype: int32"
      ]
     },
     "execution_count": 79,
     "metadata": {},
     "output_type": "execute_result"
    }
   ],
   "source": [
    "df['dateofjoining'].dt.month"
   ]
  },
  {
   "cell_type": "code",
   "execution_count": 80,
   "id": "35aeecc3",
   "metadata": {},
   "outputs": [],
   "source": [
    "df = pd.read_csv('emp.csv',low_memory=False)"
   ]
  },
  {
   "cell_type": "code",
   "execution_count": 81,
   "id": "724dc72e",
   "metadata": {},
   "outputs": [],
   "source": [
    "df = pd.read_csv('emp.csv',low_memory=False)"
   ]
  },
  {
   "cell_type": "code",
   "execution_count": 82,
   "id": "15c70879",
   "metadata": {},
   "outputs": [
    {
     "data": {
      "text/html": [
       "<div>\n",
       "<style scoped>\n",
       "    .dataframe tbody tr th:only-of-type {\n",
       "        vertical-align: middle;\n",
       "    }\n",
       "\n",
       "    .dataframe tbody tr th {\n",
       "        vertical-align: top;\n",
       "    }\n",
       "\n",
       "    .dataframe thead th {\n",
       "        text-align: right;\n",
       "    }\n",
       "</style>\n",
       "<table border=\"1\" class=\"dataframe\">\n",
       "  <thead>\n",
       "    <tr style=\"text-align: right;\">\n",
       "      <th></th>\n",
       "      <th>eno</th>\n",
       "      <th>ename</th>\n",
       "      <th>dateofjoining</th>\n",
       "    </tr>\n",
       "  </thead>\n",
       "  <tbody>\n",
       "    <tr>\n",
       "      <th>0</th>\n",
       "      <td>101</td>\n",
       "      <td>John Doe</td>\n",
       "      <td>2020-03-12</td>\n",
       "    </tr>\n",
       "    <tr>\n",
       "      <th>1</th>\n",
       "      <td>102</td>\n",
       "      <td>Jane Smith</td>\n",
       "      <td>2019-08-25</td>\n",
       "    </tr>\n",
       "    <tr>\n",
       "      <th>2</th>\n",
       "      <td>103</td>\n",
       "      <td>Mark Brown</td>\n",
       "      <td>2021-01-15</td>\n",
       "    </tr>\n",
       "    <tr>\n",
       "      <th>3</th>\n",
       "      <td>104</td>\n",
       "      <td>Emily Davis</td>\n",
       "      <td>2018-11-20</td>\n",
       "    </tr>\n",
       "    <tr>\n",
       "      <th>4</th>\n",
       "      <td>105</td>\n",
       "      <td>Chris Johnson</td>\n",
       "      <td>2022-06-18</td>\n",
       "    </tr>\n",
       "    <tr>\n",
       "      <th>5</th>\n",
       "      <td>106</td>\n",
       "      <td>Lily White</td>\n",
       "      <td>2020-09-10</td>\n",
       "    </tr>\n",
       "    <tr>\n",
       "      <th>6</th>\n",
       "      <td>107</td>\n",
       "      <td>James Lee</td>\n",
       "      <td>2021-02-22</td>\n",
       "    </tr>\n",
       "    <tr>\n",
       "      <th>7</th>\n",
       "      <td>108</td>\n",
       "      <td>Anna Wilson</td>\n",
       "      <td>2017-04-05</td>\n",
       "    </tr>\n",
       "    <tr>\n",
       "      <th>8</th>\n",
       "      <td>109</td>\n",
       "      <td>Michael Clark</td>\n",
       "      <td>2023-05-30</td>\n",
       "    </tr>\n",
       "    <tr>\n",
       "      <th>9</th>\n",
       "      <td>110</td>\n",
       "      <td>Susan Taylor</td>\n",
       "      <td>2019-12-09</td>\n",
       "    </tr>\n",
       "  </tbody>\n",
       "</table>\n",
       "</div>"
      ],
      "text/plain": [
       "   eno          ename dateofjoining\n",
       "0  101       John Doe    2020-03-12\n",
       "1  102     Jane Smith    2019-08-25\n",
       "2  103     Mark Brown    2021-01-15\n",
       "3  104    Emily Davis    2018-11-20\n",
       "4  105  Chris Johnson    2022-06-18\n",
       "5  106     Lily White    2020-09-10\n",
       "6  107      James Lee    2021-02-22\n",
       "7  108    Anna Wilson    2017-04-05\n",
       "8  109  Michael Clark    2023-05-30\n",
       "9  110   Susan Taylor    2019-12-09"
      ]
     },
     "execution_count": 82,
     "metadata": {},
     "output_type": "execute_result"
    }
   ],
   "source": [
    "df"
   ]
  },
  {
   "cell_type": "code",
   "execution_count": 85,
   "id": "d3cf90ce",
   "metadata": {},
   "outputs": [],
   "source": [
    "df.to_csv('tgt_emp.csv',index=False)"
   ]
  },
  {
   "cell_type": "code",
   "execution_count": 86,
   "id": "3abf9635",
   "metadata": {},
   "outputs": [],
   "source": [
    "emp = {'eno':[1,2,3],'ename':['Rakesh','Pankaj','Mayank']}"
   ]
  },
  {
   "cell_type": "code",
   "execution_count": 87,
   "id": "f4d389fe",
   "metadata": {},
   "outputs": [
    {
     "data": {
      "text/plain": [
       "{'eno': [1, 2, 3], 'ename': ['Rakesh', 'Pankaj', 'Mayank']}"
      ]
     },
     "execution_count": 87,
     "metadata": {},
     "output_type": "execute_result"
    }
   ],
   "source": [
    "emp"
   ]
  },
  {
   "cell_type": "code",
   "execution_count": 89,
   "id": "40c6201d",
   "metadata": {},
   "outputs": [],
   "source": [
    "df = pd.DataFrame(emp)"
   ]
  },
  {
   "cell_type": "code",
   "execution_count": 90,
   "id": "3ac41d55",
   "metadata": {},
   "outputs": [
    {
     "data": {
      "text/html": [
       "<div>\n",
       "<style scoped>\n",
       "    .dataframe tbody tr th:only-of-type {\n",
       "        vertical-align: middle;\n",
       "    }\n",
       "\n",
       "    .dataframe tbody tr th {\n",
       "        vertical-align: top;\n",
       "    }\n",
       "\n",
       "    .dataframe thead th {\n",
       "        text-align: right;\n",
       "    }\n",
       "</style>\n",
       "<table border=\"1\" class=\"dataframe\">\n",
       "  <thead>\n",
       "    <tr style=\"text-align: right;\">\n",
       "      <th></th>\n",
       "      <th>eno</th>\n",
       "      <th>ename</th>\n",
       "    </tr>\n",
       "  </thead>\n",
       "  <tbody>\n",
       "    <tr>\n",
       "      <th>0</th>\n",
       "      <td>1</td>\n",
       "      <td>Rakesh</td>\n",
       "    </tr>\n",
       "    <tr>\n",
       "      <th>1</th>\n",
       "      <td>2</td>\n",
       "      <td>Pankaj</td>\n",
       "    </tr>\n",
       "    <tr>\n",
       "      <th>2</th>\n",
       "      <td>3</td>\n",
       "      <td>Mayank</td>\n",
       "    </tr>\n",
       "  </tbody>\n",
       "</table>\n",
       "</div>"
      ],
      "text/plain": [
       "   eno   ename\n",
       "0    1  Rakesh\n",
       "1    2  Pankaj\n",
       "2    3  Mayank"
      ]
     },
     "execution_count": 90,
     "metadata": {},
     "output_type": "execute_result"
    }
   ],
   "source": []
  },
  {
   "cell_type": "code",
   "execution_count": 95,
   "id": "e17629d7",
   "metadata": {},
   "outputs": [
    {
     "name": "stdout",
     "output_type": "stream",
     "text": [
      "   eno       ename dateofjoining\n",
      "0  101    John Doe    2020-03-12\n",
      "1  102  Jane Smith    2019-08-25\n",
      "   eno        ename dateofjoining\n",
      "2  103   Mark Brown    2021-01-15\n",
      "3  104  Emily Davis    2018-11-20\n",
      "   eno          ename dateofjoining\n",
      "4  105  Chris Johnson    2022-06-18\n",
      "5  106     Lily White    2020-09-10\n",
      "   eno        ename dateofjoining\n",
      "6  107    James Lee    2021-02-22\n",
      "7  108  Anna Wilson    2017-04-05\n",
      "   eno          ename dateofjoining\n",
      "8  109  Michael Clark    2023-05-30\n",
      "9  110   Susan Taylor    2019-12-09\n"
     ]
    }
   ],
   "source": [
    "for df in pd.read_csv('emp.csv',chunksize=2):\n",
    "    print(df)\n",
    "    df.to_csv('checkFile.csv',mode='a',index=False)\n",
    "    \n",
    "    "
   ]
  },
  {
   "cell_type": "code",
   "execution_count": null,
   "id": "209aec17",
   "metadata": {},
   "outputs": [],
   "source": []
  }
 ],
 "metadata": {
  "kernelspec": {
   "display_name": "Python 3 (ipykernel)",
   "language": "python",
   "name": "python3"
  },
  "language_info": {
   "codemirror_mode": {
    "name": "ipython",
    "version": 3
   },
   "file_extension": ".py",
   "mimetype": "text/x-python",
   "name": "python",
   "nbconvert_exporter": "python",
   "pygments_lexer": "ipython3",
   "version": "3.10.1"
  }
 },
 "nbformat": 4,
 "nbformat_minor": 5
}
